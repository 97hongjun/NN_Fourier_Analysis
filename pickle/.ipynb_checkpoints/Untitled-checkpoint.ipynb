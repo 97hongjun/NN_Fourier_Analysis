{
 "cells": [
  {
   "cell_type": "code",
   "execution_count": 1,
   "metadata": {},
   "outputs": [],
   "source": [
    "import numpy as np\n",
    "import matplotlib.pyplot as plt\n",
    "import pickle"
   ]
  },
  {
   "cell_type": "code",
   "execution_count": null,
   "metadata": {},
   "outputs": [],
   "source": [
    "with open ('eig_vals_d4_t1000_c0.1.pkl', 'rb') as handle:\n",
    "    t10000 = pickle.load(handle)\n",
    "with open ('eig_vals_d4_t10000_c0.1.pkl', 'rb') as handle:\n",
    "    t20000 = pickle.load(handle)\n",
    "with open ('eig_vals_d4_t15000_c0.1.pkl', 'rb') as handle:\n",
    "    t22000 = pickle.load(handle)"
   ]
  }
 ],
 "metadata": {
  "kernelspec": {
   "display_name": "Python 3",
   "language": "python",
   "name": "python3"
  },
  "language_info": {
   "codemirror_mode": {
    "name": "ipython",
    "version": 3
   },
   "file_extension": ".py",
   "mimetype": "text/x-python",
   "name": "python",
   "nbconvert_exporter": "python",
   "pygments_lexer": "ipython3",
   "version": "3.8.2"
  }
 },
 "nbformat": 4,
 "nbformat_minor": 4
}
